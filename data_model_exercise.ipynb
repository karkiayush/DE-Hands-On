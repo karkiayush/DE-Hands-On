{
 "cells": [
  {
   "cell_type": "code",
   "execution_count": 23,
   "metadata": {},
   "outputs": [],
   "source": [
    "# We use the 'psycopg2' library in Python to interact with PostgreSQL. As a database adapter, psycopg2 enables Python to establish links to PostgreSQL databases, form tables, modify and refresh data, experiment with transactions, query data, invoke functions and stored procedures, and handle BLOB data.\n",
    "import psycopg2\n",
    "import credentials as cred"
   ]
  },
  {
   "cell_type": "markdown",
   "metadata": {},
   "source": [
    "#### Creating connection to PostgreSQL\n"
   ]
  },
  {
   "cell_type": "code",
   "execution_count": 25,
   "metadata": {},
   "outputs": [],
   "source": [
    "try:\n",
    "    # connect() method in pyscopg2 requires 4 parameters: 1. host, 2. dbname, 3.user, 4. password\n",
    "    # here localhost ip address is 127.0.0.1\n",
    "    conn = psycopg2.connect(\n",
    "        f\"host=localhost dbname=postgres user=postgres password={cred.pw}\"\n",
    "    )\n",
    "    # print(conn)\n",
    "\n",
    "except psycopg2.Error as e:\n",
    "    print(\"Error: Couldn't make connection to postgres database\")\n",
    "    print(e)"
   ]
  },
  {
   "cell_type": "markdown",
   "metadata": {},
   "source": [
    "#### If database connection is successful then we use the connection to get a cursor tha can be used to execute queries\n"
   ]
  },
  {
   "cell_type": "code",
   "execution_count": 8,
   "metadata": {},
   "outputs": [],
   "source": [
    "try:\n",
    "    # Allows Python code to execute PostgreSQL command in a database session. Cursors are created by the connection. cursor() method: they are bound to the connection for the entire lifetime and all the commands are executed in the context of the database session wrapped by the connection.\n",
    "    cur = conn.cursor()\n",
    "except psycopg2.Error as e:\n",
    "    print(\"Error: Couldn't get cursor to postgres database\")\n",
    "    print(e)"
   ]
  },
  {
   "cell_type": "markdown",
   "metadata": {},
   "source": [
    "#### Set the automatic commit to be true so that each action is committed without having to call conn.commit() after each command is fired\n"
   ]
  },
  {
   "cell_type": "code",
   "execution_count": 9,
   "metadata": {},
   "outputs": [],
   "source": [
    "# commit ensure that the transcation have made some effect in the database\n",
    "\n",
    "conn.set_session(autocommit=True)"
   ]
  },
  {
   "cell_type": "markdown",
   "metadata": {},
   "source": [
    "#### Create a database to do the work in\n"
   ]
  },
  {
   "cell_type": "code",
   "execution_count": 11,
   "metadata": {},
   "outputs": [
    {
     "name": "stdout",
     "output_type": "stream",
     "text": [
      "database \"myfirstdb\" already exists\n",
      "\n"
     ]
    }
   ],
   "source": [
    "try:\n",
    "    cur.execute(\"create database myfirstdb\")\n",
    "\n",
    "except psycopg2.Error as e:\n",
    "    print(e)"
   ]
  },
  {
   "cell_type": "markdown",
   "metadata": {},
   "source": [
    "#### Close the connection to postgresDB and connect the recently created myfirstdb\n"
   ]
  },
  {
   "cell_type": "code",
   "execution_count": 26,
   "metadata": {},
   "outputs": [],
   "source": [
    "try:\n",
    "    conn.close()\n",
    "except psycopg2.Error as e:\n",
    "    print(e)\n",
    "\n",
    "try:\n",
    "    conn = psycopg2.connect(\n",
    "        f\"host=127.0.0.1 dbname=myfirstdb user=postgres password={cred.pw}\"\n",
    "    )\n",
    "    # print(conn)\n",
    "except psycopg2.Error as e:\n",
    "    print(\"Couldn't make connectio to PostgreSQL's myfirstdb\")\n",
    "    print(e)\n",
    "\n",
    "try:\n",
    "    cur = conn.cursor()\n",
    "    # print(cur)\n",
    "except psycopg2.Error as e:\n",
    "    print(\"Error: Couldn't get cursor to the database\")\n",
    "    print(e)\n",
    "\n",
    "conn.set_session(autocommit=True)"
   ]
  },
  {
   "cell_type": "markdown",
   "metadata": {},
   "source": [
    "#### Creating table for students that includes below columns\n",
    "\n",
    "- student_id\n",
    "- name\n",
    "- age\n",
    "- gender\n",
    "- subject\n",
    "- marks\n"
   ]
  },
  {
   "cell_type": "code",
   "execution_count": 16,
   "metadata": {},
   "outputs": [],
   "source": [
    "try:\n",
    "    cur.execute(\n",
    "        \"CREATE TABLE IF NOT EXISTS students(student_id int, name varchar, age int, gender varchar, subject varchar, marks int);\"\n",
    "    )\n",
    "\n",
    "except psycopg2.Error as e:\n",
    "    print(\"Error: couldn't make table on the myfirstdb\")\n",
    "    print(e)"
   ]
  },
  {
   "cell_type": "markdown",
   "metadata": {},
   "source": [
    "#### Inserting the following rows in the table\n",
    "\n",
    "- row 1: \"Raj\", 23, \"Male\", \"Python\", 85\n",
    "- row 2: \"Priya\", 22, \"Female\", \"Python\", 86\n"
   ]
  },
  {
   "cell_type": "code",
   "execution_count": 18,
   "metadata": {},
   "outputs": [],
   "source": [
    "try:\n",
    "    cur.execute(\n",
    "        \"INSERT INTO students(student_id, name, age, gender, subject, marks) VALUES(%s, %s, %s, %s, %s, %s)\",\n",
    "        (1, \"Raj\", 23, \"Male\", \"Python\", 85),\n",
    "    )\n",
    "except psycopg2.Error as e:\n",
    "    print(\"Error: Due to some error insertion failed\")\n",
    "    print(e)\n",
    "\n",
    "try:\n",
    "    cur.execute(\n",
    "        \"INSERT INTO students(student_id, name, age, gender, subject, marks) VALUES(%s, %s, %s, %s, %s, %s)\",\n",
    "        (2, \"Priya\", 22, \"Female\", \"Python\", 86),\n",
    "    )\n",
    "except psycopg2.Error as e:\n",
    "    print(\"Error: Due to some error insertion failed\")\n",
    "    print(e)"
   ]
  },
  {
   "cell_type": "markdown",
   "metadata": {},
   "source": [
    "#### Validate your data was inserted into the table.\n"
   ]
  },
  {
   "cell_type": "code",
   "execution_count": 21,
   "metadata": {},
   "outputs": [
    {
     "name": "stdout",
     "output_type": "stream",
     "text": [
      "(1, 'Raj', 23, 'Male', 'Python', 85)\n",
      "(2, 'Priya', 22, 'Female', 'Python', 86)\n"
     ]
    }
   ],
   "source": [
    "try:\n",
    "    # cur object get the table data\n",
    "    cur.execute(\"select * from students;\")\n",
    "except psycopg2.Error as e:\n",
    "    print(\"Error: select operation failed\")\n",
    "    print(e)\n",
    "\n",
    "# firstly fetching one row and inside the loop continuing the fetching task\n",
    "row = cur.fetchone()\n",
    "while row:\n",
    "    print(row)\n",
    "    row = cur.fetchone()"
   ]
  },
  {
   "cell_type": "code",
   "execution_count": 22,
   "metadata": {},
   "outputs": [],
   "source": [
    "# closing the connections\n",
    "cur.close()\n",
    "conn.close()"
   ]
  }
 ],
 "metadata": {
  "kernelspec": {
   "display_name": "Python 3",
   "language": "python",
   "name": "python3"
  },
  "language_info": {
   "codemirror_mode": {
    "name": "ipython",
    "version": 3
   },
   "file_extension": ".py",
   "mimetype": "text/x-python",
   "name": "python",
   "nbconvert_exporter": "python",
   "pygments_lexer": "ipython3",
   "version": "3.11.4"
  }
 },
 "nbformat": 4,
 "nbformat_minor": 2
}
