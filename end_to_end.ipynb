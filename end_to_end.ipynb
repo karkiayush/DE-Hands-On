{
 "cells": [
  {
   "cell_type": "markdown",
   "metadata": {},
   "source": [
    "### Here we'll be working on following topics:\n",
    "\n",
    "- Gathering the data\n",
    "- Building data model\n",
    "- Deploying data model on the database\n"
   ]
  },
  {
   "cell_type": "code",
   "execution_count": 2,
   "metadata": {},
   "outputs": [],
   "source": [
    "import pandas as pd\n",
    "import psycopg2"
   ]
  },
  {
   "cell_type": "code",
   "execution_count": 3,
   "metadata": {},
   "outputs": [],
   "source": [
    "# Creating database\n",
    "def create_db():\n",
    "    # Just connecting to the postgres sever with the help of postgres database\n",
    "    conn = psycopg2.connect(\n",
    "        host=\"127.0.0.1\", database=\"postgres\", user=\"postgres\", password=\"aayushkrk\"\n",
    "    )\n",
    "    cur = conn.cursor()\n",
    "    conn.set_session(autocommit=True)\n",
    "\n",
    "    # creating database\n",
    "    cur.execute(\"drop database accounts\")\n",
    "    cur.execute(\"create database accounts\")\n",
    "\n",
    "    # closing the connection to postgres database and connecting to the new made\n",
    "    conn.close()\n",
    "    conn = psycopg2.connect(\n",
    "        host=\"127.0.0.1\", database=\"endtoenddb\", user=\"postgres\", password=\"aayushkrk\")\n",
    "    cur = conn.cursor()\n",
    "\n",
    "    return cur, conn"
   ]
  },
  {
   "cell_type": "code",
   "execution_count": null,
   "metadata": {},
   "outputs": [],
   "source": []
  }
 ],
 "metadata": {
  "kernelspec": {
   "display_name": "Python 3",
   "language": "python",
   "name": "python3"
  },
  "language_info": {
   "codemirror_mode": {
    "name": "ipython",
    "version": 3
   },
   "file_extension": ".py",
   "mimetype": "text/x-python",
   "name": "python",
   "nbconvert_exporter": "python",
   "pygments_lexer": "ipython3",
   "version": "3.11.4"
  }
 },
 "nbformat": 4,
 "nbformat_minor": 2
}
